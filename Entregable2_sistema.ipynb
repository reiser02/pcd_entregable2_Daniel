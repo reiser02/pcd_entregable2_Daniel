{
  "nbformat": 4,
  "nbformat_minor": 0,
  "metadata": {
    "colab": {
      "provenance": []
    },
    "kernelspec": {
      "name": "python3",
      "display_name": "Python 3"
    },
    "language_info": {
      "name": "python"
    }
  },
  "cells": [
    {
      "cell_type": "code",
      "execution_count": null,
      "metadata": {
        "id": "ZEv99Q3AiNbn"
      },
      "outputs": [],
      "source": [
        "!pip install kafka-python"
      ]
    },
    {
      "cell_type": "code",
      "source": [
        "!curl -sSOL https://dlcdn.apache.org/kafka/3.6.2/kafka_2.13-3.6.2.tgz\n",
        "!tar -xzf kafka_2.13-3.6.2.tgz"
      ],
      "metadata": {
        "id": "F-D4AIQaiZnk"
      },
      "execution_count": null,
      "outputs": []
    },
    {
      "cell_type": "code",
      "source": [
        "!./kafka_2.13-3.6.2/bin/zookeeper-server-start.sh -daemon ./kafka_2.13-3.6.2/config/zookeeper.properties\n",
        "!./kafka_2.13-3.6.2/bin/kafka-server-start.sh -daemon ./kafka_2.13-3.6.2/config/server.properties\n",
        "!echo \"Esperamos 10 segundos hasta que los servicios kafka y zookeeper estén activos y funcionando\"\n",
        "!sleep 10"
      ],
      "metadata": {
        "id": "CiURoFtjibwF"
      },
      "execution_count": null,
      "outputs": []
    },
    {
      "cell_type": "code",
      "source": [
        "!ps -ef | grep kafka"
      ],
      "metadata": {
        "id": "q2P4IQN2ic9c"
      },
      "execution_count": null,
      "outputs": []
    },
    {
      "cell_type": "code",
      "source": [
        "!./kafka_2.13-3.6.2/bin/kafka-topics.sh --create --topic invernadero --bootstrap-server localhost:9092"
      ],
      "metadata": {
        "id": "8LZ4JyvaiePD"
      },
      "execution_count": null,
      "outputs": []
    },
    {
      "cell_type": "code",
      "source": [
        "!./kafka_2.13-3.6.2/bin/kafka-topics.sh --describe --bootstrap-server 127.0.0.1:9092  --topic invernadero"
      ],
      "metadata": {
        "id": "i5OeBsExifh9"
      },
      "execution_count": null,
      "outputs": []
    },
    {
      "cell_type": "code",
      "source": [
        "nombre_topico='invernadero'"
      ],
      "metadata": {
        "id": "Vcp3VFsNigys"
      },
      "execution_count": null,
      "outputs": []
    },
    {
      "cell_type": "code",
      "source": [
        "!cat producer_invernadero.py"
      ],
      "metadata": {
        "id": "g96hCqEqijF0"
      },
      "execution_count": null,
      "outputs": []
    },
    {
      "cell_type": "code",
      "source": [
        "!nohup python -m producer_invernadero datos_invernaderi.csv invernadero 5 &"
      ],
      "metadata": {
        "id": "vht8-ny8ik0s"
      },
      "execution_count": null,
      "outputs": []
    },
    {
      "cell_type": "code",
      "source": [
        "!./kafka_2.13-3.6.2/bin/kafka-console-consumer.sh --topic invernadero --from-beginning --bootstrap-server localhost:9092"
      ],
      "metadata": {
        "id": "l18E7n_Aimz0"
      },
      "execution_count": null,
      "outputs": []
    },
    {
      "cell_type": "code",
      "source": [
        "from kafka import KafkaConsumer\n",
        "import json\n",
        "\n",
        "\n",
        "class Consumer:\n",
        "    def __init__(self, topic):\n",
        "        self._consumer = KafkaConsumer(topic,\n",
        "                                       bootstrap_servers='localhost:9092',\n",
        "                                       value_deserializer=lambda x: json.loads(x.decode('utf-8')),\n",
        "                                       group_id='inver')\n",
        "\n",
        "        self.data = []\n",
        "\n",
        "    @property\n",
        "    def consumer(self):\n",
        "        return self._consumer\n",
        "\n",
        "    @consumer.setter\n",
        "    def consumer(self, value):\n",
        "        if isinstance(value, KafkaConsumer):\n",
        "            self._consumer = value\n",
        "\n",
        "    def iniciar_consumicion(self):\n",
        "        self.receive_message()\n",
        "\n",
        "    def receive_message(self):\n",
        "        message_count = 0\n",
        "        for message in self._consumer:\n",
        "            message = message.value\n",
        "            print(f'Message {message_count}: {message}')\n",
        "            self.data.append(message)\n",
        "            message_count += 1"
      ],
      "metadata": {
        "id": "oLIys0uIip3j"
      },
      "execution_count": null,
      "outputs": []
    },
    {
      "cell_type": "code",
      "source": [
        "consumer = Consumer(nombre_topico)\n",
        "consumer.iniciar_consumicion()"
      ],
      "metadata": {
        "id": "VGq_i6XmirWN"
      },
      "execution_count": null,
      "outputs": []
    }
  ]
}